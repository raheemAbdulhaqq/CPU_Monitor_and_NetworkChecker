{
 "cells": [
  {
   "cell_type": "code",
   "execution_count": 1,
   "metadata": {},
   "outputs": [
    {
     "name": "stdout",
     "output_type": "stream",
     "text": [
      "Port 139 is open\n",
      "Port 23 is not open\n",
      "Port 53 is not open\n",
      "Port 80 is not open\n",
      "Port 443 is not open\n"
     ]
    }
   ],
   "source": [
    "import socket\n",
    "\n",
    "sock = socket.socket(socket.AF_INET, socket.SOCK_STREAM)\n",
    "hostIpAddress = socket.gethostname()\n",
    "#hostIpAddress = \"192.168.43.250\"\n",
    "#host = input(\"Input your ip address : \")\n",
    "ip = socket.gethostbyname(hostIpAddress)\n",
    "port_SSH = 22\n",
    "port_telnet = 23\n",
    "port_DNS = 53\n",
    "port_http = 80\n",
    "port_https = 443\n",
    "ports = [port_SSH,port_telnet,port_DNS,port_http,port_https]\n",
    "for port in ports:\n",
    "    location = (hostIpAddress, port)\n",
    "    result = sock.connect_ex(location)\n",
    "    if result == 0:\n",
    "        print(\"Port\",port, \"is open\")\n",
    "    else:\n",
    "        print(\"Port\",port, \"is not open\")\n",
    "    sock.close()"
   ]
  },
  {
   "cell_type": "code",
   "execution_count": null,
   "metadata": {},
   "outputs": [],
   "source": []
  },
  {
   "cell_type": "code",
   "execution_count": null,
   "metadata": {},
   "outputs": [],
   "source": []
  },
  {
   "cell_type": "code",
   "execution_count": null,
   "metadata": {},
   "outputs": [],
   "source": []
  }
 ],
 "metadata": {
  "kernelspec": {
   "display_name": "Python 3",
   "language": "python",
   "name": "python3"
  },
  "language_info": {
   "codemirror_mode": {
    "name": "ipython",
    "version": 3
   },
   "file_extension": ".py",
   "mimetype": "text/x-python",
   "name": "python",
   "nbconvert_exporter": "python",
   "pygments_lexer": "ipython3",
   "version": "3.7.4"
  }
 },
 "nbformat": 4,
 "nbformat_minor": 2
}
