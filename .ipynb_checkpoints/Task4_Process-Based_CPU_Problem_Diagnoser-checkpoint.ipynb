{
 "cells": [
  {
   "cell_type": "code",
   "execution_count": null,
   "metadata": {},
   "outputs": [],
   "source": [
    "import psutil\n",
    "import time\n",
    "import wmi\n",
    "\n",
    "listOfProcessesId = []\n",
    "listOfProcessesUsage = []\n",
    "f = wmi.WMI()\n",
    "#print(\"PID  Usage\")\n",
    "for process in f.Win32_Process():\n",
    "    try:\n",
    "        p = psutil.Process(process.ProcessId)\n",
    "    except psutil.NoSuchProcess:\n",
    "        pass\n",
    "    percentageUsage = p.cpu_percent()\n",
    "    #print(p.pid, percentageUsage)\n",
    "    listOfProcessesId.append(process.ProcessId)\n",
    "    listOfProcessesUsage.append(percentageUsage)\n",
    "    dictofProcesses = dict(zip(listOfProcessesId, listOfProcessesUsage))\n",
    "#print(dictofProcesses)\n",
    "\n",
    "#after five minutes\n",
    "time.sleep(30)  # in seconds\n",
    "listOfProcessesIdAfterFiveMinutes = []\n",
    "listOfProcessesUsageAfterFiveMinutes = []\n",
    "for process in f.Win32_Process():\n",
    "    try:\n",
    "        q = psutil.Process(process.ProcessId)\n",
    "    except psutil.NoSuchProcess:\n",
    "        pass\n",
    "    percentageUsageAfterFiveMinutes = q.cpu_percent()\n",
    "    #print(q.pid, percentageUsageAfterFiveMinutes)\n",
    "    listOfProcessesIdAfterFiveMinutes.append(process.ProcessId)\n",
    "    listOfProcessesUsageAfterFiveMinutes.append(percentageUsageAfterFiveMinutes)\n",
    "    dictofProcessesAfterFiveMinutes = dict(zip(listOfProcessesIdAfterFiveMinutes, listOfProcessesUsageAfterFiveMinutes))\n",
    "#print(dictofProcessesAfterFiveMinutes)\n",
    "\n",
    "#compare\n",
    "for _id, usage in dictofProcesses.items():\n",
    "    #print(_id, usage)\n",
    "    for _idAfterFiveMinutes , usageAfterFiveMinutes in dictofProcessesAfterFiveMinutes.items():\n",
    "        #print(_idAfterFiveMinutes, usageAfterFiveMinutes)\n",
    "        if _idAfterFiveMinutes != _id:\n",
    "            pass\n",
    "        #elif ((_idAfterFiveMinutes == _id) and (usageAfterFiveMinutes > usage*10)):\n",
    "        elif _idAfterFiveMinutes == _id:\n",
    "                print(\"The process with process id of\",_idAfterFiveMinutes,\" is using more than ten times what it was using five earlier!\")"
   ]
  }
 ],
 "metadata": {
  "kernelspec": {
   "display_name": "Python 3",
   "language": "python",
   "name": "python3"
  },
  "language_info": {
   "codemirror_mode": {
    "name": "ipython",
    "version": 3
   },
   "file_extension": ".py",
   "mimetype": "text/x-python",
   "name": "python",
   "nbconvert_exporter": "python",
   "pygments_lexer": "ipython3",
   "version": "3.7.4"
  }
 },
 "nbformat": 4,
 "nbformat_minor": 2
}
