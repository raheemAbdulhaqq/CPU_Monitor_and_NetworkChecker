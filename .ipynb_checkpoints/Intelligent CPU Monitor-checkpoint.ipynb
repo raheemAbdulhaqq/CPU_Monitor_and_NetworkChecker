{
 "cells": [
  {
   "cell_type": "code",
   "execution_count": null,
   "metadata": {},
   "outputs": [],
   "source": [
    "import psutil\n",
    "import time\n",
    "import statistics\n",
    "\n",
    "two_minutes = 120         #time in seconds\n",
    "start_time = time.time()  # remember when we started\n",
    "usageForTwoMinutes = []\n",
    "while (time.time() - start_time) < two_minutes:\n",
    "    intervalUsage = psutil.cpu_percent(interval=5)\n",
    "    usageForTwoMinutes.append(intervalUsage)\n",
    "print(\"This is the usage for the first two minutes : \"+str(usageForTwoMinutes))\n",
    "while True:\n",
    "    currentUsage = psutil.cpu_percent(interval=5)\n",
    "    usageForTwoMinutes.pop(0)\n",
    "    usageForTwoMinutes.append(currentUsage)\n",
    "    avgUsage = statistics.mean(usageForTwoMinutes)\n",
    "    print(\"This is the usage for the last two minutes : \"+str(usageForTwoMinutes))\n",
    "    print(\"Average usage for the last two minutes : \"+str(avgUsage))\n",
    "    if(currentUsage > 90):\n",
    "        print('CPU usage is high')\n",
    "    elif(currentUsage > avgUsage*2):\n",
    "        print('Usage level is more than double average in the last 2 minutes')\n"
   ]
  },
  {
   "cell_type": "code",
   "execution_count": null,
   "metadata": {},
   "outputs": [],
   "source": []
  }
 ],
 "metadata": {
  "kernelspec": {
   "display_name": "Python 3",
   "language": "python",
   "name": "python3"
  },
  "language_info": {
   "codemirror_mode": {
    "name": "ipython",
    "version": 3
   },
   "file_extension": ".py",
   "mimetype": "text/x-python",
   "name": "python",
   "nbconvert_exporter": "python",
   "pygments_lexer": "ipython3",
   "version": "3.7.4"
  }
 },
 "nbformat": 4,
 "nbformat_minor": 2
}
