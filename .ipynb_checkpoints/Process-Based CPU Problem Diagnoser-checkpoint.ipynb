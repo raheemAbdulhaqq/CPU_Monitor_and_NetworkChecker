{
 "cells": [
  {
   "cell_type": "code",
   "execution_count": 1,
   "metadata": {},
   "outputs": [
    {
     "ename": "ModuleNotFoundError",
     "evalue": "No module named 'wmi'",
     "output_type": "error",
     "traceback": [
      "\u001b[1;31m---------------------------------------------------------------------------\u001b[0m",
      "\u001b[1;31mModuleNotFoundError\u001b[0m                       Traceback (most recent call last)",
      "\u001b[1;32m<ipython-input-1-18675259eace>\u001b[0m in \u001b[0;36m<module>\u001b[1;34m\u001b[0m\n\u001b[1;32m----> 1\u001b[1;33m \u001b[1;32mimport\u001b[0m \u001b[0mwmi\u001b[0m\u001b[1;33m\u001b[0m\u001b[1;33m\u001b[0m\u001b[0m\n\u001b[0m\u001b[0;32m      2\u001b[0m \u001b[1;32mimport\u001b[0m \u001b[0mpsutil\u001b[0m\u001b[1;33m\u001b[0m\u001b[1;33m\u001b[0m\u001b[0m\n\u001b[0;32m      3\u001b[0m \u001b[1;32mimport\u001b[0m \u001b[0mtime\u001b[0m\u001b[1;33m\u001b[0m\u001b[1;33m\u001b[0m\u001b[0m\n\u001b[0;32m      4\u001b[0m \u001b[1;33m\u001b[0m\u001b[0m\n\u001b[0;32m      5\u001b[0m \u001b[1;33m\u001b[0m\u001b[0m\n",
      "\u001b[1;31mModuleNotFoundError\u001b[0m: No module named 'wmi'"
     ]
    }
   ],
   "source": [
    "import psutil\n",
    "import time\n",
    "import wmi\n",
    "\n",
    "listOfProcessesId = []\n",
    "listOfProcessesUsage = []\n",
    "f = wmi.WMI()\n",
    "print(\"PID  Usage\")\n",
    "for process in f.Win32_Process():\n",
    "    try:\n",
    "        p = psutil.Process(process.ProcessId)\n",
    "    except psutil.NoSuchProcess:\n",
    "        pass\n",
    "    percentageUsage = p.cpu_percent()\n",
    "    print(p.pid, percentageUsage)\n",
    "    listOfProcessesId.append(process.ProcessId)\n",
    "    listOfProcessesUsage.append(percentageUsage)\n",
    "    dictofProcesses = dict(zip(listOfProcessesId, listOfProcessesUsage))\n",
    "print(dictofProcesses)\n",
    "\n",
    "#after five minutes\n",
    "time.sleep(30)  # in seconds\n",
    "listOfProcessesIdAfterFiveMinutes = []\n",
    "listOfProcessesUsageAfterFiveMinutes = []\n",
    "for process in f.Win32_Process():\n",
    "    try:\n",
    "        q = psutil.Process(process.ProcessId)\n",
    "    except psutil.NoSuchProcess:\n",
    "        pass\n",
    "    percentageUsageAfterFiveMinutes = q.cpu_percent()\n",
    "    print(q.pid, percentageUsageAfterFiveMinutes)\n",
    "    listOfProcessesIdAfterFiveMinutes.append(process.ProcessId)\n",
    "    listOfProcessesUsageAfterFiveMinutes.append(percentageUsageAfterFiveMinutes)\n",
    "    dictofProcessesAfterFiveMinutes = dict(zip(listOfProcessesIdAfterFiveMinutes, listOfProcessesUsageAfterFiveMinutes))\n",
    "print(dictofProcessesAfterFiveMinutes)\n",
    "\n",
    "#compare\n",
    "for _id, usage in dictofProcesses.items():\n",
    "    print(_id, usage)\n",
    "    for _idAfterFiveMinutes , usageAfterFiveMinutes in dictofProcessesAfterFiveMinutes.items():\n",
    "        print(_idAfterFiveMinutes, usageAfterFiveMinutes)\n",
    "        if _idAfterFiveMinutes != _id:\n",
    "            pass\n",
    "        elif ((_idAfterFiveMinutes == _id) and (usageAfterFiveMinutes > usage*10)):\n",
    "                print(\"This process is using more than ten times what it was using five earlier : \", _idAfterFiveMinutes)\n",
    "        \n"
   ]
  },
  {
   "cell_type": "code",
   "execution_count": null,
   "metadata": {},
   "outputs": [],
   "source": []
  }
 ],
 "metadata": {
  "kernelspec": {
   "display_name": "Python 3",
   "language": "python",
   "name": "python3"
  },
  "language_info": {
   "codemirror_mode": {
    "name": "ipython",
    "version": 3
   },
   "file_extension": ".py",
   "mimetype": "text/x-python",
   "name": "python",
   "nbconvert_exporter": "python",
   "pygments_lexer": "ipython3",
   "version": "3.7.4"
  }
 },
 "nbformat": 4,
 "nbformat_minor": 2
}
