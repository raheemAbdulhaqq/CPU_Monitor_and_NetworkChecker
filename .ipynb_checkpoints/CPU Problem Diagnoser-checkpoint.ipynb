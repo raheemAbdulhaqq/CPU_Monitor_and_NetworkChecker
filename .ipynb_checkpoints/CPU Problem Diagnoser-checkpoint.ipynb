{
 "cells": [
  {
   "cell_type": "code",
   "execution_count": 1,
   "metadata": {},
   "outputs": [
    {
     "ename": "ModuleNotFoundError",
     "evalue": "No module named 'wmi'",
     "output_type": "error",
     "traceback": [
      "\u001b[1;31m---------------------------------------------------------------------------\u001b[0m",
      "\u001b[1;31mModuleNotFoundError\u001b[0m                       Traceback (most recent call last)",
      "\u001b[1;32m<ipython-input-1-ebb2dd5c643c>\u001b[0m in \u001b[0;36m<module>\u001b[1;34m\u001b[0m\n\u001b[1;32m----> 1\u001b[1;33m \u001b[1;32mimport\u001b[0m \u001b[0mwmi\u001b[0m\u001b[1;33m\u001b[0m\u001b[1;33m\u001b[0m\u001b[0m\n\u001b[0m\u001b[0;32m      2\u001b[0m \u001b[1;32mimport\u001b[0m \u001b[0mpsutil\u001b[0m\u001b[1;33m\u001b[0m\u001b[1;33m\u001b[0m\u001b[0m\n\u001b[0;32m      3\u001b[0m \u001b[1;32mimport\u001b[0m \u001b[0mtime\u001b[0m\u001b[1;33m\u001b[0m\u001b[1;33m\u001b[0m\u001b[0m\n\u001b[0;32m      4\u001b[0m \u001b[1;32mimport\u001b[0m \u001b[0mstatistics\u001b[0m\u001b[1;33m\u001b[0m\u001b[1;33m\u001b[0m\u001b[0m\n\u001b[0;32m      5\u001b[0m \u001b[1;33m\u001b[0m\u001b[0m\n",
      "\u001b[1;31mModuleNotFoundError\u001b[0m: No module named 'wmi'"
     ]
    }
   ],
   "source": [
    "import wmi\n",
    "import psutil\n",
    "import time\n",
    "import statistics\n",
    "\n",
    "f = wmi.WMI()\n",
    "max_time = 10\n",
    "start_time = time.time()  # remember when we started\n",
    "usageForTwoMinutes = []\n",
    "listOfProcesses = []\n",
    "while (time.time() - start_time) < max_time:\n",
    "    intervalUsage = psutil.cpu_percent(interval=5)\n",
    "    usageForTwoMinutes.append(intervalUsage)\n",
    "    for process in f.Win32_Process():\n",
    "        try:\n",
    "            listOfProcesses.append(process.ProcessId)\n",
    "        except psutil.NoSuchProcess():\n",
    "            pass\n",
    "numberOfProcess = len(listOfProcesses)\n",
    "print(usageForTwoMinutes)\n",
    "currentUsage = psutil.cpu_percent(interval=5)\n",
    "usageForTwoMinutes.pop(0)\n",
    "usageForTwoMinutes.append(currentUsage)\n",
    "avgUsage = statistics.mean(usageForTwoMinutes)\n",
    "print(usageForTwoMinutes)\n",
    "print(avgUsage)\n",
    "if(currentUsage > 0):\n",
    "    print(\"CPU usage is high because:\")\n",
    "    currentListOfProcess = []\n",
    "    print(\"pid Process name\")\n",
    "    for process in f.Win32_Process():\n",
    "        try:\n",
    "            p = psutil.Process(process.ProcessId)\n",
    "        except psutil.NoSuchProcess:\n",
    "            pass\n",
    "        currentListOfProcess.append(p)\n",
    "        if(p.cpu_percent(interval=1.0) > currentUsage/2):\n",
    "            processName = process.Name\n",
    "            print(\"This process is using more than half of the CPU at this particular time \"f\"{process.ProcessId:<10} {process.Name}\")\n",
    "    if(len(currentListOfProcess) > 0):\n",
    "        print(\"There are many more process running than normal\")\n",
    "    else:\n",
    "        print(\"Your CPU usage is high for an unknown reason.\")\n",
    "elif(currentUsage > avgUsage*2):\n",
    "    print('Usage level is more than double average in the last 2 minutes')\n",
    "    "
   ]
  },
  {
   "cell_type": "code",
   "execution_count": null,
   "metadata": {},
   "outputs": [],
   "source": [
    "!apt-get install "
   ]
  }
 ],
 "metadata": {
  "kernelspec": {
   "display_name": "Python 3",
   "language": "python",
   "name": "python3"
  },
  "language_info": {
   "codemirror_mode": {
    "name": "ipython",
    "version": 3
   },
   "file_extension": ".py",
   "mimetype": "text/x-python",
   "name": "python",
   "nbconvert_exporter": "python",
   "pygments_lexer": "ipython3",
   "version": "3.7.4"
  }
 },
 "nbformat": 4,
 "nbformat_minor": 2
}
