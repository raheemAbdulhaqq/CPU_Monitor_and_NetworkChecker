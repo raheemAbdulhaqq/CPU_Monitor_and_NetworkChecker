{
 "cells": [
  {
   "cell_type": "code",
   "execution_count": null,
   "metadata": {},
   "outputs": [],
   "source": [
    "import wmi\n",
    "import psutil\n",
    "import time\n",
    "import statistics\n",
    "\n",
    "f = wmi.WMI()\n",
    "max_time = 10\n",
    "start_time = time.time()  # remember when we started\n",
    "usageForTwoMinutes = []\n",
    "listOfProcesses = []\n",
    "while (time.time() - start_time) < max_time:\n",
    "    intervalUsage = psutil.cpu_percent(interval=5)\n",
    "    usageForTwoMinutes.append(intervalUsage)\n",
    "    for process in f.Win32_Process():\n",
    "        try:\n",
    "            listOfProcesses.append(process.ProcessId)\n",
    "        except psutil.NoSuchProcess():\n",
    "            pass\n",
    "numberOfProcess = len(listOfProcesses)\n",
    "print(usageForTwoMinutes)\n",
    "currentUsage = psutil.cpu_percent(interval=5)\n",
    "usageForTwoMinutes.pop(0)\n",
    "usageForTwoMinutes.append(currentUsage)\n",
    "avgUsage = statistics.mean(usageForTwoMinutes)\n",
    "print(usageForTwoMinutes)\n",
    "print(avgUsage)\n",
    "if(currentUsage > 0):\n",
    "    print(\"CPU usage is high because:\")\n",
    "    currentListOfProcess = []\n",
    "    print(\"pid Process name\")\n",
    "    for process in f.Win32_Process():\n",
    "        try:\n",
    "            p = psutil.Process(process.ProcessId)\n",
    "        except psutil.NoSuchProcess:\n",
    "            pass\n",
    "        currentListOfProcess.append(p)\n",
    "        if(p.cpu_percent(interval=1.0) > currentUsage/2):\n",
    "            processName = process.Name\n",
    "            print(\"This process is using more than half of the CPU at this particular time \"f\"{process.ProcessId:<10} {process.Name}\")\n",
    "    if(len(currentListOfProcess) > 0):\n",
    "        print(\"There are many more process running than normal\")\n",
    "    else:\n",
    "        print(\"Your CPU usage is high for an unknown reason.\")\n",
    "elif(currentUsage > avgUsage*2):\n",
    "    print('Usage level is more than double average in the last 2 minutes')\n",
    "    "
   ]
  }
 ],
 "metadata": {
  "kernelspec": {
   "display_name": "Python 3",
   "language": "python",
   "name": "python3"
  },
  "language_info": {
   "codemirror_mode": {
    "name": "ipython",
    "version": 3
   },
   "file_extension": ".py",
   "mimetype": "text/x-python",
   "name": "python",
   "nbconvert_exporter": "python",
   "pygments_lexer": "ipython3",
   "version": "3.7.4"
  }
 },
 "nbformat": 4,
 "nbformat_minor": 2
}
