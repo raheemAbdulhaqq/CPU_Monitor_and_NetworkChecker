{
 "cells": [
  {
   "cell_type": "code",
   "execution_count": null,
   "metadata": {},
   "outputs": [],
   "source": [
    "import psutil\n",
    "\n",
    "while True:\n",
    "    cpu_usage = psutil.cpu_percent(interval = 5)\n",
    "    print(\"Your CPU usage is : \"+ str(cpu_usage) + \"%\")\n",
    "    if cpu_usage > 90:\n",
    "        print(\"Your CPU usage(\"+str(cpu_usage)+\"%) is high!\")"
   ]
  },
  {
   "cell_type": "code",
   "execution_count": null,
   "metadata": {},
   "outputs": [],
   "source": []
  }
 ],
 "metadata": {
  "kernelspec": {
   "display_name": "Python 3",
   "language": "python",
   "name": "python3"
  },
  "language_info": {
   "codemirror_mode": {
    "name": "ipython",
    "version": 3
   },
   "file_extension": ".py",
   "mimetype": "text/x-python",
   "name": "python",
   "nbconvert_exporter": "python",
   "pygments_lexer": "ipython3",
   "version": "3.7.4"
  }
 },
 "nbformat": 4,
 "nbformat_minor": 2
}
