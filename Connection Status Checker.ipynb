{
 "cells": [
  {
   "cell_type": "code",
   "execution_count": 1,
   "metadata": {},
   "outputs": [
    {
     "name": "stdout",
     "output_type": "stream",
     "text": [
      "No internet connection.\n",
      "Connected to http://www.amazon.com , it took 1.2261879444122314\n",
      "Mean time : 1.2261879444122314\n",
      "You have a good internet connection\n"
     ]
    }
   ],
   "source": [
    "import requests\n",
    "import time\n",
    "import statistics\n",
    "\n",
    "\n",
    "websites = [\"http://www.google.com\", \"http://www.amazon.com\"]\n",
    "listofTime = []\n",
    "for website in websites:\n",
    "    # cehck for internet connection on the machine\n",
    "    timeout = 5 #in seconds or ...\n",
    "    start = time.time()\n",
    "    try:\n",
    "        request = requests.get(website, timeout=timeout)\n",
    "        endTime = time.time()-start\n",
    "        listofTime.append(endTime)\n",
    "        print(\"Connected to\", website,\", it took\", endTime)\n",
    "    except (requests.ConnectionError, requests.Timeout) as exception:\n",
    "        print(\"No internet connection.\")\n",
    "if len(listofTime) > 0:\n",
    "    avgTime = statistics.mean(listofTime)\n",
    "else:\n",
    "    avgTime = 0\n",
    "print(\"Mean time : \"+str(avgTime))\n",
    "assumedMaxTimeForGoodInternetConnection = 2 # in seconds\n",
    "if avgTime < assumedMaxTimeForGoodInternetConnection:\n",
    "    print(\"You have a good internet connection\")\n",
    "elif avgTime > assumedMaxTimeForGoodInternetConnection:\n",
    "    print(\"You have a poor internet connection\")  "
   ]
  },
  {
   "cell_type": "code",
   "execution_count": null,
   "metadata": {},
   "outputs": [],
   "source": []
  }
 ],
 "metadata": {
  "kernelspec": {
   "display_name": "Python 3",
   "language": "python",
   "name": "python3"
  },
  "language_info": {
   "codemirror_mode": {
    "name": "ipython",
    "version": 3
   },
   "file_extension": ".py",
   "mimetype": "text/x-python",
   "name": "python",
   "nbconvert_exporter": "python",
   "pygments_lexer": "ipython3",
   "version": "3.7.4"
  }
 },
 "nbformat": 4,
 "nbformat_minor": 2
}
