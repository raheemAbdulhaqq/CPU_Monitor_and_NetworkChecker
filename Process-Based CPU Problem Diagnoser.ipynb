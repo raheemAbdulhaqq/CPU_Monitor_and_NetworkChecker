{
 "cells": [
  {
   "cell_type": "code",
   "execution_count": 2,
   "metadata": {},
   "outputs": [
    {
     "ename": "ModuleNotFoundError",
     "evalue": "No module named 'wmi'",
     "output_type": "error",
     "traceback": [
      "\u001b[1;31m---------------------------------------------------------------------------\u001b[0m",
      "\u001b[1;31mModuleNotFoundError\u001b[0m                       Traceback (most recent call last)",
      "\u001b[1;32m<ipython-input-2-4a6f5ac6b474>\u001b[0m in \u001b[0;36m<module>\u001b[1;34m\u001b[0m\n\u001b[0;32m      1\u001b[0m \u001b[1;32mimport\u001b[0m \u001b[0mpsutil\u001b[0m\u001b[1;33m\u001b[0m\u001b[1;33m\u001b[0m\u001b[0m\n\u001b[0;32m      2\u001b[0m \u001b[1;32mimport\u001b[0m \u001b[0mtime\u001b[0m\u001b[1;33m\u001b[0m\u001b[1;33m\u001b[0m\u001b[0m\n\u001b[1;32m----> 3\u001b[1;33m \u001b[1;32mimport\u001b[0m \u001b[0mwmi\u001b[0m\u001b[1;33m\u001b[0m\u001b[1;33m\u001b[0m\u001b[0m\n\u001b[0m\u001b[0;32m      4\u001b[0m \u001b[1;33m\u001b[0m\u001b[0m\n\u001b[0;32m      5\u001b[0m \u001b[0mlistOfProcessesId\u001b[0m \u001b[1;33m=\u001b[0m \u001b[1;33m[\u001b[0m\u001b[1;33m]\u001b[0m\u001b[1;33m\u001b[0m\u001b[1;33m\u001b[0m\u001b[0m\n",
      "\u001b[1;31mModuleNotFoundError\u001b[0m: No module named 'wmi'"
     ]
    }
   ],
   "source": [
    "import psutil\n",
    "import time\n",
    "import wmi\n",
    "\n",
    "listOfProcessesId = []\n",
    "listOfProcessesUsage = []\n",
    "f = wmi.WMI()\n",
    "print(\"PID  Usage\")\n",
    "for process in f.Win32_Process():\n",
    "    try:\n",
    "        p = psutil.Process(process.ProcessId)\n",
    "    except psutil.NoSuchProcess:\n",
    "        pass\n",
    "    percentageUsage = p.cpu_percent()\n",
    "    print(p.pid, percentageUsage)\n",
    "    listOfProcessesId.append(process.ProcessId)\n",
    "    listOfProcessesUsage.append(percentageUsage)\n",
    "    dictofProcesses = dict(zip(listOfProcessesId, listOfProcessesUsage))\n",
    "print(dictofProcesses)\n",
    "\n",
    "#after five minutes\n",
    "time.sleep(30)  # in seconds\n",
    "listOfProcessesIdAfterFiveMinutes = []\n",
    "listOfProcessesUsageAfterFiveMinutes = []\n",
    "for process in f.Win32_Process():\n",
    "    try:\n",
    "        q = psutil.Process(process.ProcessId)\n",
    "    except psutil.NoSuchProcess:\n",
    "        pass\n",
    "    percentageUsageAfterFiveMinutes = q.cpu_percent()\n",
    "    print(q.pid, percentageUsageAfterFiveMinutes)\n",
    "    listOfProcessesIdAfterFiveMinutes.append(process.ProcessId)\n",
    "    listOfProcessesUsageAfterFiveMinutes.append(percentageUsageAfterFiveMinutes)\n",
    "    dictofProcessesAfterFiveMinutes = dict(zip(listOfProcessesIdAfterFiveMinutes, listOfProcessesUsageAfterFiveMinutes))\n",
    "print(dictofProcessesAfterFiveMinutes)\n",
    "\n",
    "#compare\n",
    "for _id, usage in dictofProcesses.items():\n",
    "    print(_id, usage)\n",
    "    for _idAfterFiveMinutes , usageAfterFiveMinutes in dictofProcessesAfterFiveMinutes.items():\n",
    "        print(_idAfterFiveMinutes, usageAfterFiveMinutes)\n",
    "        if _idAfterFiveMinutes != _id:\n",
    "            pass\n",
    "        elif ((_idAfterFiveMinutes == _id) and (usageAfterFiveMinutes > usage*10)):\n",
    "                print(\"This process is using more than ten times what it was using five earlier : \", _idAfterFiveMinutes)\n",
    "        \n"
   ]
  },
  {
   "cell_type": "code",
   "execution_count": 4,
   "metadata": {},
   "outputs": [
    {
     "name": "stdout",
     "output_type": "stream",
     "text": [
      "Requirement already satisfied: wmi in c:\\users\\notebook\\appdata\\roaming\\python\\python37\\site-packages (1.5.1)\n",
      "Requirement already satisfied: pywin32 in c:\\users\\notebook\\anaconda3\\lib\\site-packages (from wmi) (223)\n"
     ]
    },
    {
     "name": "stderr",
     "output_type": "stream",
     "text": [
      "WARNING: You are using pip version 21.3; however, version 21.3.1 is available.\n",
      "You should consider upgrading via the 'c:\\users\\notebook\\anaconda3\\python.exe -m pip install --upgrade pip' command.\n"
     ]
    }
   ],
   "source": [
    "! pip install wmi --user"
   ]
  },
  {
   "cell_type": "code",
   "execution_count": 8,
   "metadata": {},
   "outputs": [
    {
     "name": "stdout",
     "output_type": "stream",
     "text": [
      "Requirement already satisfied: pip in c:\\users\\notebook\\anaconda3\\lib\\site-packages (21.3)\n",
      "Collecting pip\n",
      "  Using cached pip-21.3.1-py3-none-any.whl (1.7 MB)\n",
      "Installing collected packages: pip\n",
      "  Attempting uninstall: pip\n",
      "    Found existing installation: pip 21.3\n",
      "    Uninstalling pip-21.3:\n",
      "      Successfully uninstalled pip-21.3\n"
     ]
    },
    {
     "name": "stderr",
     "output_type": "stream",
     "text": [
      "ERROR: Could not install packages due to an OSError: [WinError 5] Access is denied: 'C:\\\\Users\\\\NOTEBOOK\\\\AppData\\\\Local\\\\Temp\\\\pip-uninstall-ao9dfnkb\\\\pip.exe'\n",
      "Consider using the `--user` option or check the permissions.\n",
      "\n"
     ]
    }
   ],
   "source": [
    "! pip install --upgrade pip"
   ]
  },
  {
   "cell_type": "code",
   "execution_count": 1,
   "metadata": {},
   "outputs": [
    {
     "name": "stdout",
     "output_type": "stream",
     "text": [
      "Requirement already satisfied: wmi in c:\\users\\notebook\\appdata\\roaming\\python\\python37\\site-packages (1.5.1)\n",
      "Requirement already satisfied: pywin32 in c:\\users\\notebook\\anaconda3\\lib\\site-packages (from wmi) (223)\n"
     ]
    }
   ],
   "source": [
    "!pip install wmi"
   ]
  },
  {
   "cell_type": "code",
   "execution_count": null,
   "metadata": {},
   "outputs": [],
   "source": []
  }
 ],
 "metadata": {
  "kernelspec": {
   "display_name": "Python 3",
   "language": "python",
   "name": "python3"
  },
  "language_info": {
   "codemirror_mode": {
    "name": "ipython",
    "version": 3
   },
   "file_extension": ".py",
   "mimetype": "text/x-python",
   "name": "python",
   "nbconvert_exporter": "python",
   "pygments_lexer": "ipython3",
   "version": "3.7.4"
  }
 },
 "nbformat": 4,
 "nbformat_minor": 2
}
